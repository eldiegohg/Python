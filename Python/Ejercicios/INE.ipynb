{
 "cells": [
  {
   "cell_type": "markdown",
   "id": "220c04eb",
   "metadata": {},
   "source": [
    "### Crear un programa que me solicite todos los datos de la INE y que me los almacene en un diccionario, posteriormente se van a obtener en un diccionario y se van guardar dentro de un archivo .txt"
   ]
  },
  {
   "cell_type": "code",
   "execution_count": 3,
   "id": "53f84891",
   "metadata": {},
   "outputs": [
    {
     "name": "stdout",
     "output_type": "stream",
     "text": [
      "Nombre completo: Castro Villafaña Yesenia\n",
      "Domicilio: Colosio\n",
      "Clave de elector: NQWURQIFH54\n",
      "Curp: 4J3D9FJ934JW\n",
      "Fecha de nacimiento: 12/11/20\n",
      "Sección: 1987\n",
      "Los datos de la INE se han guardado en el archivo INE.txt\n"
     ]
    }
   ],
   "source": [
    "def solicitar_INE():\n",
    "    INE = {}\n",
    "    \n",
    "    INE['nombre'] = input(\"Nombre completo: \")\n",
    "    INE['domicilio'] = input(\"Domicilio: \")\n",
    "    INE['clave_elector'] = input(\"Clave de elector: \")\n",
    "    INE['curp'] = input(\"Curp: \")\n",
    "    INE['fecha_ine'] = input(\"Fecha de nacimiento: \")\n",
    "    INE['seccion'] = input(\"Sección: \")\n",
    "    INE['registro'] = input(\"Año de registro: \")\n",
    "    INE['vigencia'] = input(\"Vigencia: \")\n",
    "    INE['sexo'] = input(\"Sexo: \")\n",
    "    \n",
    "    return INE\n",
    "\n",
    "def guardar_en_archivo(diccionario, nombre_archivo):\n",
    "    with open(nombre_archivo, 'w') as archivo:\n",
    "        for clave, valor in diccionario.items():\n",
    "            archivo.write(clave + ': ' + valor + '\\n')\n",
    "\n",
    "INE = solicitar_INE()\n",
    "\n",
    "nombre_archivo = 'INE.txt'\n",
    "\n",
    "guardar_en_archivo(INE, nombre_archivo)\n",
    "\n",
    "print(\"Los datos de la INE se han guardado en el archivo\", nombre_archivo)\n"
   ]
  }
 ],
 "metadata": {
  "kernelspec": {
   "display_name": "Python 3 (ipykernel)",
   "language": "python",
   "name": "python3"
  },
  "language_info": {
   "codemirror_mode": {
    "name": "ipython",
    "version": 3
   },
   "file_extension": ".py",
   "mimetype": "text/x-python",
   "name": "python",
   "nbconvert_exporter": "python",
   "pygments_lexer": "ipython3",
   "version": "3.11.4"
  }
 },
 "nbformat": 4,
 "nbformat_minor": 5
}
