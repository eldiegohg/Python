{
 "cells": [
  {
   "cell_type": "code",
   "execution_count": 1,
   "id": "42b60eaf",
   "metadata": {},
   "outputs": [
    {
     "name": "stdout",
     "output_type": "stream",
     "text": [
      "#Archivo que se desea buscar.\n"
     ]
    }
   ],
   "source": [
    "def leer_archivo(nombre_archivo):\n",
    "    try:\n",
    "        with open(nombre_archivo, \"r\") as archivo:\n",
    "            contenido = archivo.read()\n",
    "            print(contenido)\n",
    "    except FileNotFoundError:\n",
    "        print(f\"El archivo '{nombre_archivo}' no existe.\")\n",
    "\n",
    "nombre_archivo = \"tarea_buscar.txt\"\n",
    "\n",
    "leer_archivo(nombre_archivo)"
   ]
  },
  {
   "cell_type": "code",
   "execution_count": 15,
   "id": "e53b8a75",
   "metadata": {},
   "outputs": [
    {
     "ename": "ModuleNotFoundError",
     "evalue": "No module named 'PyPDF2'",
     "output_type": "error",
     "traceback": [
      "\u001b[1;31m---------------------------------------------------------------------------\u001b[0m",
      "\u001b[1;31mModuleNotFoundError\u001b[0m                       Traceback (most recent call last)",
      "Cell \u001b[1;32mIn[15], line 1\u001b[0m\n\u001b[1;32m----> 1\u001b[0m \u001b[38;5;28;01mimport\u001b[39;00m \u001b[38;5;21;01mPyPDF2\u001b[39;00m\n\u001b[0;32m      3\u001b[0m \u001b[38;5;28;01mdef\u001b[39;00m \u001b[38;5;21mleer_archivo_pdf\u001b[39m(nombre_archivo):\n\u001b[0;32m      4\u001b[0m     \u001b[38;5;28;01mtry\u001b[39;00m:\n",
      "\u001b[1;31mModuleNotFoundError\u001b[0m: No module named 'PyPDF2'"
     ]
    }
   ],
   "source": [
    "import PyPDF2\n",
    "\n",
    "def leer_archivo_pdf(nombre_archivo):\n",
    "    try:\n",
    "        with open(nombre_archivo, \"rb\") as archivo:\n",
    "            pdf_reader = PyPDF2.PdfReader(archivo)  \n",
    "            for page_num in range(len(pdf_reader.pages)):\n",
    "                page = pdf_reader.pages[page_num]\n",
    "                print(page.extract_text())\n",
    "    except FileNotFoundError:\n",
    "        print(f\"El archivo '{nombre_archivo}' no existe.\")\n",
    "\n",
    "nombre_archivo_pdf = \"TSP scripts Diego Hdz.pdf\"\n",
    "leer_archivo_pdf(nombre_archivo_pdf)"
   ]
  },
  {
   "cell_type": "code",
   "execution_count": 14,
   "id": "e8230312",
   "metadata": {},
   "outputs": [
    {
     "ename": "ModuleNotFoundError",
     "evalue": "No module named 'docx'",
     "output_type": "error",
     "traceback": [
      "\u001b[1;31m---------------------------------------------------------------------------\u001b[0m",
      "\u001b[1;31mModuleNotFoundError\u001b[0m                       Traceback (most recent call last)",
      "Cell \u001b[1;32mIn[14], line 1\u001b[0m\n\u001b[1;32m----> 1\u001b[0m \u001b[38;5;28;01mfrom\u001b[39;00m \u001b[38;5;21;01mdocx\u001b[39;00m \u001b[38;5;28;01mimport\u001b[39;00m Document\n\u001b[0;32m      3\u001b[0m path \u001b[38;5;241m=\u001b[39m \u001b[38;5;124m'\u001b[39m\u001b[38;5;124m21393091_Hernández_García-Maquetación de los mapas SM63.docx\u001b[39m\u001b[38;5;124m'\u001b[39m\n\u001b[0;32m      5\u001b[0m doc \u001b[38;5;241m=\u001b[39m Document(path)\n",
      "\u001b[1;31mModuleNotFoundError\u001b[0m: No module named 'docx'"
     ]
    }
   ],
   "source": [
    "from docx import Document\n",
    "\n",
    "path = '21393091_Hernández_García-Maquetación de los mapas SM63.docx'\n",
    "\n",
    "doc = Document(path)\n",
    "\n",
    "for paragraph in doc.paragraphs:\n",
    "    print(paragraph.text)"
   ]
  },
  {
   "cell_type": "code",
   "execution_count": 11,
   "id": "b04a298f",
   "metadata": {},
   "outputs": [
    {
     "name": "stdout",
     "output_type": "stream",
     "text": [
      "  DOCUMENTO \n",
      "0        EN \n",
      "1      EXCEL\n"
     ]
    }
   ],
   "source": [
    "import pandas as pd\n",
    "\n",
    "path = 'Documento en excel.xlsx'\n",
    "\n",
    "df = pd.read_excel(path)\n",
    "\n",
    "print(df)\n",
    "\n",
    "#El 0 y 1 son el numero de casilla en el que esta cada palabra"
   ]
  }
 ],
 "metadata": {
  "kernelspec": {
   "display_name": "Python 3 (ipykernel)",
   "language": "python",
   "name": "python3"
  },
  "language_info": {
   "codemirror_mode": {
    "name": "ipython",
    "version": 3
   },
   "file_extension": ".py",
   "mimetype": "text/x-python",
   "name": "python",
   "nbconvert_exporter": "python",
   "pygments_lexer": "ipython3",
   "version": "3.11.4"
  }
 },
 "nbformat": 4,
 "nbformat_minor": 5
}
