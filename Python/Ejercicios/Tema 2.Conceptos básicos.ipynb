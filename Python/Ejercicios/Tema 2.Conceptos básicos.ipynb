{
 "cells": [
  {
   "cell_type": "markdown",
   "id": "b45eb498",
   "metadata": {},
   "source": [
    "# 1.Variables y tipos de datos"
   ]
  },
  {
   "cell_type": "code",
   "execution_count": 9,
   "id": "2f81a958",
   "metadata": {
    "scrolled": false
   },
   "outputs": [
    {
     "name": "stdout",
     "output_type": "stream",
     "text": [
      "Hola, soy Diego Hernandez tengo 20 años y mi altura es de 1.84m\n",
      "<class 'str'>\n",
      "<class 'str'>\n",
      "<class 'str'>\n",
      "<class 'int'>\n",
      "<class 'float'>\n",
      "<class 'bool'>\n",
      "<class 'bool'>\n"
     ]
    }
   ],
   "source": [
    "# Tipo de datos\n",
    "\n",
    "nombre = 'Diego'\n",
    "ap_paterno = \"Hernandez\"\n",
    "ap_materno = \"\"\"Garcia\"\"\"\n",
    "edad = 20\n",
    "altura = 1.84\n",
    "es_estudiante = True\n",
    "es_docente = False\n",
    "\n",
    "print(f\"Hola, soy {nombre} {ap_paterno} tengo {edad} años y mi altura es de {altura}m\")\n",
    "\n",
    "print(type(nombre))\n",
    "print(type(ap_paterno))\n",
    "print(type(ap_materno))\n",
    "print(type(edad))\n",
    "print(type(altura))\n",
    "print(type(es_estudiante))\n",
    "print(type(es_docente))"
   ]
  },
  {
   "cell_type": "markdown",
   "id": "9390d74e",
   "metadata": {},
   "source": [
    "# 2.Operadores"
   ]
  },
  {
   "cell_type": "markdown",
   "id": "69aa3c00",
   "metadata": {},
   "source": [
    "### a) Aritméticos: Se usan para realizar operaciones matemáticas."
   ]
  },
  {
   "cell_type": "code",
   "execution_count": 14,
   "id": "b1014290",
   "metadata": {},
   "outputs": [
    {
     "name": "stdout",
     "output_type": "stream",
     "text": [
      "suma:13 resta:7 multiplicacion:30 division:3.3333333333333335 modulo1\n"
     ]
    }
   ],
   "source": [
    "a = 10\n",
    "b = 3\n",
    "\n",
    "suma = a + b\n",
    "resta = a - b\n",
    "multiplicacion = a * b\n",
    "division = a / b\n",
    "modulo = a % b  # Retorna el residuo de la división\n",
    "\n",
    "print(f\"suma:{suma} resta:{resta} multiplicacion:{multiplicacion} division:{division} modulo{modulo}\")"
   ]
  },
  {
   "cell_type": "markdown",
   "id": "f27ea8e6",
   "metadata": {},
   "source": [
    "### b) De comparación: Se usan para comparar valores."
   ]
  },
  {
   "cell_type": "code",
   "execution_count": null,
   "id": "00be3ce3",
   "metadata": {},
   "outputs": [],
   "source": [
    "a == b  # Igual a\n",
    "a != b  # Diferente de\n",
    "a > b   # Mayor que\n",
    "a < b   # Menor que\n",
    "a >= b  # Mayor o igual que\n",
    "a <= b  # Menor o igual que"
   ]
  },
  {
   "cell_type": "markdown",
   "id": "5d31ef37",
   "metadata": {},
   "source": [
    "### c) Lógicos: Se usan para combinar condiciones."
   ]
  },
  {
   "cell_type": "code",
   "execution_count": null,
   "id": "17583b0b",
   "metadata": {},
   "outputs": [],
   "source": [
    "x = True\n",
    "y = False\n",
    "\n",
    "resultado_and = x and y  # True si x e y son verdaderos\n",
    "resultado_or = x or y   # True si al menos uno es verdadero\n",
    "resultado_not = not x   # True si x es falso, y viceversa"
   ]
  },
  {
   "cell_type": "markdown",
   "id": "0bf4e88b",
   "metadata": {},
   "source": [
    "# 3. Entrada y salida estándar"
   ]
  },
  {
   "cell_type": "markdown",
   "id": "c78230a4",
   "metadata": {},
   "source": [
    "### a) Entrada (input()):"
   ]
  },
  {
   "cell_type": "code",
   "execution_count": null,
   "id": "e330949f",
   "metadata": {},
   "outputs": [],
   "source": [
    "nombre = input(\"¿Cuál es tu nombre? \")\n",
    "print(f\"Hola, {nombre}!\")"
   ]
  },
  {
   "cell_type": "markdown",
   "id": "16e77761",
   "metadata": {},
   "source": [
    "### b) Salida (print()):"
   ]
  },
  {
   "cell_type": "code",
   "execution_count": null,
   "id": "0646430e",
   "metadata": {},
   "outputs": [],
   "source": [
    "edad = 20\n",
    "print(f\"Tengo {edad} años.\")  # Uso de f-strings para formatear salida"
   ]
  },
  {
   "cell_type": "code",
   "execution_count": null,
   "id": "f6a8f704",
   "metadata": {},
   "outputs": [],
   "source": [
    "# Crear un sistema que ingrese los siguientes datos"
   ]
  },
  {
   "cell_type": "code",
   "execution_count": null,
   "id": "2e44f112",
   "metadata": {},
   "outputs": [],
   "source": [
    "nombre = input ('¿Cual es tu nombre?')\n",
    "ap_paterno = input (\"¿Cual es tu apellido paterno?\")\n",
    "ap_materno = input (\"\"\"¿Cual es tu apellido materno?\"\"\")\n",
    "edad = input (\"¿Cual es tu edad?\")\n",
    "altura = input (\"¿Cual es tu edad?\")\n",
    "es_estudiante = input (\"Ingresa si para True o ingresa no para False\").lower\n",
    "bool_es_estudiante = es_estudiante == \"sí\"\n",
    "es_docente = input (\"Ingresa si para True o ingresa no para False\").lower\n",
    "bool_es_docente = es_docente == \"sí\"\n",
    "\n",
    "print(bool_estudiante)\n",
    "print(bool_docente)\n",
    "\n",
    "print (f\"¡Hola {nombre} {ap_paterno} {ap_materno}! Veo que tienes {edad} años, mides{altura} y ¿eres estudiante? {es_estudiante} ¿eres docente?{es_docente}.\")"
   ]
  }
 ],
 "metadata": {
  "kernelspec": {
   "display_name": "Python 3 (ipykernel)",
   "language": "python",
   "name": "python3"
  },
  "language_info": {
   "codemirror_mode": {
    "name": "ipython",
    "version": 3
   },
   "file_extension": ".py",
   "mimetype": "text/x-python",
   "name": "python",
   "nbconvert_exporter": "python",
   "pygments_lexer": "ipython3",
   "version": "3.11.4"
  }
 },
 "nbformat": 4,
 "nbformat_minor": 5
}
