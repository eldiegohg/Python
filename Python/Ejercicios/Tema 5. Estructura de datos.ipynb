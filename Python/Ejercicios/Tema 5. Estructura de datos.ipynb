{
 "cells": [
  {
   "cell_type": "markdown",
   "id": "9f7079a9",
   "metadata": {},
   "source": [
    "# LISTAS"
   ]
  },
  {
   "cell_type": "code",
   "execution_count": null,
   "id": "57e1fc73",
   "metadata": {},
   "outputs": [],
   "source": [
    "frutas = [\"manzana\", \"banana\", \"cereza\"]\n",
    "numeros = [1, 2, 3, 4, 5]\n",
    "mixto = [\"texto\", 123, True, 3.14]"
   ]
  },
  {
   "cell_type": "markdown",
   "id": "e565f2ed",
   "metadata": {},
   "source": [
    "### ACCESO Y MODIFICACION"
   ]
  },
  {
   "cell_type": "code",
   "execution_count": null,
   "id": "2e381fac",
   "metadata": {},
   "outputs": [],
   "source": [
    "print(frutas[0])       # Imprime \"manzana\"\n",
    "frutas[1] = \"uva\"      # Cambia \"banana\" por \"uva\""
   ]
  },
  {
   "cell_type": "markdown",
   "id": "2698f059",
   "metadata": {},
   "source": [
    "### METODOS COMUNES"
   ]
  },
  {
   "cell_type": "code",
   "execution_count": null,
   "id": "f83401c6",
   "metadata": {},
   "outputs": [],
   "source": [
    "frutas.append(\"naranja\")    # Agrega un elemento al final\n",
    "frutas.remove(\"manzana\")    # Elimina un elemento específico\n",
    "frutas.pop()                # Elimina el último elemento"
   ]
  },
  {
   "cell_type": "markdown",
   "id": "f0a48be7",
   "metadata": {},
   "source": [
    "# TUPLAS"
   ]
  },
  {
   "cell_type": "code",
   "execution_count": null,
   "id": "a671f657",
   "metadata": {},
   "outputs": [],
   "source": [
    "colores = (\"rojo\", \"verde\", \"azul\")"
   ]
  },
  {
   "cell_type": "markdown",
   "id": "33299cf8",
   "metadata": {},
   "source": [
    "### Acceso"
   ]
  },
  {
   "cell_type": "code",
   "execution_count": null,
   "id": "ce5e3d77",
   "metadata": {},
   "outputs": [],
   "source": [
    "print(colores[1])    # Imprime \"verde\""
   ]
  },
  {
   "cell_type": "markdown",
   "id": "d2a51ef3",
   "metadata": {},
   "source": [
    "# SETS\n",
    "### Métodos comunes:"
   ]
  },
  {
   "cell_type": "code",
   "execution_count": null,
   "id": "aed6b28c",
   "metadata": {},
   "outputs": [],
   "source": [
    "animales = {\"gato\", \"perro\", \"pez\"}\n",
    "animales.add(\"pájaro\")     # Agrega un elemento\n",
    "animales.remove(\"pez\")     # Elimina un elemento"
   ]
  },
  {
   "cell_type": "markdown",
   "id": "6f9af26e",
   "metadata": {},
   "source": [
    "# DICCIONARIOS\n",
    "### Son colecciones no ordenadas de pares clave-valor."
   ]
  },
  {
   "cell_type": "code",
   "execution_count": 1,
   "id": "157f5a6c",
   "metadata": {},
   "outputs": [
    {
     "name": "stdout",
     "output_type": "stream",
     "text": [
      "Ingresa tu peso en kilogramos: 25\n",
      "Ingresa tu altura en metros: 1.80\n",
      "Tu índice de masa corporal es: 7.716049382716049\n",
      "'Bajo peso' o 'Flaco'.\n"
     ]
    }
   ],
   "source": [
    "#\n",
    "\n",
    "def calcular_IMC():\n",
    "    peso = float(input(\"Ingresa tu peso en kilogramos: \"))\n",
    "    altura = float(input(\"Ingresa tu altura en metros: \"))\n",
    "\n",
    "    imc = peso / (altura ** 2)\n",
    "\n",
    "    print(\"Tu índice de masa corporal es:\", imc)\n",
    "\n",
    "    if imc < 18.5:\n",
    "        print(\"'Bajo peso' o 'Flaco'.\")\n",
    "    elif 18.5 <= imc < 25:\n",
    "        print(\"'Normal'.\")\n",
    "    elif 25 <= imc < 30:\n",
    "        print(\"'Sobrepeso'.\")\n",
    "    else:\n",
    "        print(\"'Obesidad' o 'Gordo'.\")\n",
    "\n",
    "calcular_IMC()"
   ]
  }
 ],
 "metadata": {
  "kernelspec": {
   "display_name": "Python 3 (ipykernel)",
   "language": "python",
   "name": "python3"
  },
  "language_info": {
   "codemirror_mode": {
    "name": "ipython",
    "version": 3
   },
   "file_extension": ".py",
   "mimetype": "text/x-python",
   "name": "python",
   "nbconvert_exporter": "python",
   "pygments_lexer": "ipython3",
   "version": "3.11.4"
  }
 },
 "nbformat": 4,
 "nbformat_minor": 5
}
