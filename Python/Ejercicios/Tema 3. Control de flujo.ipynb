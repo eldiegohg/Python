{
 "cells": [
  {
   "cell_type": "markdown",
   "id": "20a1dabb",
   "metadata": {},
   "source": [
    "## IF ELSE"
   ]
  },
  {
   "cell_type": "code",
   "execution_count": 1,
   "id": "27a32e16",
   "metadata": {
    "scrolled": true
   },
   "outputs": [
    {
     "name": "stdout",
     "output_type": "stream",
     "text": [
      "1\n",
      "2\n",
      "3\n",
      "4\n",
      "5\n",
      "6\n",
      "7\n",
      "8\n",
      "9\n",
      "10\n"
     ]
    }
   ],
   "source": [
    "for i in range (1,11):\n",
    "    print(i)"
   ]
  },
  {
   "cell_type": "code",
   "execution_count": 2,
   "id": "b2503030",
   "metadata": {},
   "outputs": [
    {
     "name": "stdout",
     "output_type": "stream",
     "text": [
      "1\n",
      "3\n",
      "5\n",
      "7\n",
      "9\n"
     ]
    }
   ],
   "source": [
    "for i in range (1,11,2):\n",
    "    print(i)"
   ]
  },
  {
   "cell_type": "code",
   "execution_count": 6,
   "id": "f226e470",
   "metadata": {},
   "outputs": [
    {
     "name": "stdout",
     "output_type": "stream",
     "text": [
      "Inicio: 5\n",
      "Final: 6\n",
      "Avance: 4\n",
      "5\n"
     ]
    }
   ],
   "source": [
    "inicio = int (input(\"Inicio: \"))\n",
    "final = int (input(\"Final: \"))\n",
    "avance = int (input(\"Avance: \"))\n",
    "for i in range (inicio,final,avance):\n",
    "    print(i)"
   ]
  },
  {
   "cell_type": "code",
   "execution_count": 1,
   "id": "f93381c3",
   "metadata": {},
   "outputs": [
    {
     "name": "stdout",
     "output_type": "stream",
     "text": [
      "Ingrese el inicio del rango: 1\n",
      "Ingrese el final del rango: 1\n",
      "Ingrese el inicio de la tabla: 1\n",
      "Ingrese el final de la tabla: 1\n",
      "La tabla del 1\n",
      "1 x 1 = 1\n"
     ]
    }
   ],
   "source": [
    "# Tabla infinita\n",
    "\n",
    "#El usuario va a definir el multiplicador y multiplicando\n",
    "#y el tamaño de la tabla\n",
    "\n",
    "inicio_r = int (input(\"Ingrese el inicio del rango: \"))\n",
    "final_r = int (input(\"Ingrese el final del rango: \"))\n",
    "\n",
    "inicio_t = int (input(\"Ingrese el inicio de la tabla: \"))\n",
    "final_t = int (input(\"Ingrese el final de la tabla: \"))\n",
    "\n",
    "for i in range (inicio_r,final_r+1):\n",
    "    print(f\"La tabla del {i}\")\n",
    "for j in range (inicio_t,final_t+1):\n",
    "    print (f\"{i} x {j} = {i*j}\")"
   ]
  },
  {
   "cell_type": "code",
   "execution_count": 3,
   "id": "195f009f",
   "metadata": {},
   "outputs": [
    {
     "name": "stdout",
     "output_type": "stream",
     "text": [
      "Ingresa con qué tabla empezarás: 3\n",
      "Ingresa cuántas tablas seran: 5\n",
      "Ingresa el multiplicador: 6\n",
      "Ingresa donde termina la tabla: 7\n",
      "Tabla de multiplicar de 3:\n",
      "3 x 6 = 18\n",
      "3 x 7 = 21\n",
      "Tabla de multiplicar de 4:\n",
      "4 x 6 = 24\n",
      "4 x 7 = 28\n",
      "Tabla de multiplicar de 5:\n",
      "5 x 6 = 30\n",
      "5 x 7 = 35\n",
      "Tabla de multiplicar de 6:\n",
      "6 x 6 = 36\n",
      "6 x 7 = 42\n",
      "Tabla de multiplicar de 7:\n",
      "7 x 6 = 42\n",
      "7 x 7 = 49\n"
     ]
    }
   ],
   "source": [
    "tabla_inicial = int(input(\"Ingresa con qué tabla empezarás: \"))\n",
    "datos_tabla = int(input(\"Ingresa cuántas tablas seran: \"))\n",
    "multiplicado = int(input(\"Ingresa el multiplicador: \"))\n",
    "tabla_final = int(input(\"Ingresa hasta donde llegara la tabla: \"))\n",
    "\n",
    "for tabla_actual in range(tabla_inicial, tabla_inicial + datos_tabla):\n",
    "    print(f'Tabla de multiplicar de {tabla_actual}:')\n",
    "    for multiplicador in range(multiplicado, tabla_final + 1):\n",
    "        print(f'{tabla_actual} x {multiplicador} = {tabla_actual * multiplicador}')"
   ]
  }
 ],
 "metadata": {
  "kernelspec": {
   "display_name": "Python 3 (ipykernel)",
   "language": "python",
   "name": "python3"
  },
  "language_info": {
   "codemirror_mode": {
    "name": "ipython",
    "version": 3
   },
   "file_extension": ".py",
   "mimetype": "text/x-python",
   "name": "python",
   "nbconvert_exporter": "python",
   "pygments_lexer": "ipython3",
   "version": "3.11.4"
  }
 },
 "nbformat": 4,
 "nbformat_minor": 5
}
