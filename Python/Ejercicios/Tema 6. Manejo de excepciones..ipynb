{
 "cells": [
  {
   "cell_type": "code",
   "execution_count": null,
   "id": "1a17da47",
   "metadata": {},
   "outputs": [],
   "source": [
    "personajes = [\"Goku\",\"Vegeta\",\"Gohan\",\"Brocoly\",\"Trunk\",\"Goten\",\"Chabelo\"]"
   ]
  },
  {
   "cell_type": "code",
   "execution_count": null,
   "id": "6a31549d",
   "metadata": {},
   "outputs": [],
   "source": [
    "def obtener_personajes(indice):\n",
    "    try:\n",
    "        return personajes[indice]\n",
    "    except IndexError:\n",
    "        return \"El indice del personaje no existe\"\n",
    "    except Exception as e:\n",
    "        return f\"Error desconocido: {e}\"\n",
    "    \n",
    "print(obtener_personaje(a))"
   ]
  }
 ],
 "metadata": {
  "kernelspec": {
   "display_name": "Python 3 (ipykernel)",
   "language": "python",
   "name": "python3"
  },
  "language_info": {
   "codemirror_mode": {
    "name": "ipython",
    "version": 3
   },
   "file_extension": ".py",
   "mimetype": "text/x-python",
   "name": "python",
   "nbconvert_exporter": "python",
   "pygments_lexer": "ipython3",
   "version": "3.11.4"
  }
 },
 "nbformat": 4,
 "nbformat_minor": 5
}
