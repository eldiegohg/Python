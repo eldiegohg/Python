{
 "cells": [
  {
   "cell_type": "code",
   "execution_count": 1,
   "id": "cf59dc2b",
   "metadata": {},
   "outputs": [
    {
     "name": "stdout",
     "output_type": "stream",
     "text": [
      "Selecciona una operacion: 1.Suma 2.Resta 3.Multiplicacion 4.Division 5.Potencia 6.Raiz: 4\n",
      "Primer numero: 2\n",
      "Segundo numero: 4\n",
      "El resultado de la division es: 0.5\n"
     ]
    }
   ],
   "source": [
    "from Modulos import Suma, Resta, Multiplicacion, Division, Potencia, Raiz_cuadrada\n",
    "\n",
    "seleccion = int(input(\"Selecciona una operacion: 1.Suma 2.Resta 3.Multiplicacion 4.Division 5.Potencia 6.Raiz: \"))\n",
    "\n",
    "if seleccion == 1:\n",
    "    a = int(input(\"Primer numero: \"))\n",
    "    b = int(input(\"Segundo numero: \"))\n",
    "    resultado = Suma.suma(a, b)\n",
    "    print(\"El resultado de la suma es:\", resultado)\n",
    "elif seleccion == 2:\n",
    "    a = int(input(\"Primer numero: \"))\n",
    "    b = int(input(\"Segundo numero: \"))\n",
    "    resultado = Resta.resta(a, b)\n",
    "    print(\"El resultado de la resta es:\", resultado)\n",
    "elif seleccion == 3:\n",
    "    a = int(input(\"Primer numero: \"))\n",
    "    b = int(input(\"Segundo numero: \"))\n",
    "    resultado = Multiplicacion.multiplicacion(a, b)\n",
    "    print(\"El resultado de la multiplicacion es:\", resultado)\n",
    "elif seleccion == 4:\n",
    "    a = int(input(\"Primer numero: \"))\n",
    "    b = int(input(\"Segundo numero: \"))\n",
    "    resultado = Division.division(a, b)\n",
    "    print(\"El resultado de la division es:\", resultado)\n",
    "elif seleccion == 5:\n",
    "    a = int(input(\"Primer numero: \"))\n",
    "    b = int(input(\"Segundo numero: \"))\n",
    "    resultado = Potencia.potencia(a, b)\n",
    "    print(\"El resultado de la potencia es:\", resultado)\n",
    "elif seleccion == 6:\n",
    "    a = int(input(\"A que numero le quieres sacar su raiz: \"))\n",
    "    resultado = Raiz_cuadrada.raiz_cuadrada(a)\n",
    "    print(\"El resultado de la raiz cuadrada de:\", a, \" es: \", resultado)\n",
    "else:\n",
    "    print(\"Selección no válida\")\n"
   ]
  }
 ],
 "metadata": {
  "kernelspec": {
   "display_name": "Python 3 (ipykernel)",
   "language": "python",
   "name": "python3"
  },
  "language_info": {
   "codemirror_mode": {
    "name": "ipython",
    "version": 3
   },
   "file_extension": ".py",
   "mimetype": "text/x-python",
   "name": "python",
   "nbconvert_exporter": "python",
   "pygments_lexer": "ipython3",
   "version": "3.11.4"
  }
 },
 "nbformat": 4,
 "nbformat_minor": 5
}
